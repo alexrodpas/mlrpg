{
 "cells": [
  {
   "cell_type": "markdown",
   "metadata": {},
   "source": [
    "# mlr-playground\n",
    "\n",
    "> "
   ]
  },
  {
   "cell_type": "markdown",
   "metadata": {},
   "source": [
    "This is a collection of implementations -documented with explanations- of some key research papers on machine learning, deep learning and related algorithms and models, inspired by [this website](https://nn.labml.ai/index.html) from [@labmlai](https://twitter.com/labmlai). \n",
    "\n",
    "The main goal of this repository is to be a playground where I can develop a hands-on understanding of these algorithms and models, and where I can practice my skills of translating research papers into working code.\n",
    "\n",
    "My main \"tools of the trade\" are Python and PyTorch. My coding/development platform comprises VS Code, Jupyter Lab, nbdev and Paperspace Gradient. I use nbdev and Quarto for publishing.\n",
    "\n",
    "## Papers\n",
    "\n",
    "The list of papers and associated notebooks include the following, in a somehow not very strict taxonomy:\n",
    "\n",
    "<details open>\n",
    "<summary>Transformers</summary>\n",
    "  \n",
    "1. Attention-Free Transformer: [An Attention Free Transformer](https://arxiv.org/abs/2105.14103). > [Notebook](transformers.mha.html)\n",
    "2. Relative Attention Transformer: [Transformer-XL: Attentive Language Models Beyond a Fixed-Length Context](https://arxiv.org/abs/1901.02860). > [Notebook](transformers.relative_mha.html)\n",
    "\n",
    "</details>"
   ]
  },
  {
   "cell_type": "markdown",
   "metadata": {},
   "source": [
    "## Install"
   ]
  },
  {
   "cell_type": "markdown",
   "metadata": {},
   "source": [
    "```sh\n",
    "pip install mlr_playground\n",
    "```"
   ]
  },
  {
   "cell_type": "code",
   "execution_count": null,
   "metadata": {},
   "outputs": [],
   "source": [
    "#| hide\n",
    "import nbdev; nbdev.nbdev_export()"
   ]
  }
 ],
 "metadata": {
  "kernelspec": {
   "display_name": "python3",
   "language": "python",
   "name": "python3"
  }
 },
 "nbformat": 4,
 "nbformat_minor": 4
}
